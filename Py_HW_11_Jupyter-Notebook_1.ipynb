{
 "cells": [
  {
   "cell_type": "markdown",
   "id": "3a8a0cd3",
   "metadata": {},
   "source": [
    "### Исследование функции y = |5x^3| +3x^2 - 6|x|:\n",
    "     \n",
    "1. Определить корни\n",
    "2. Найти интервалы, на которых функция возрастает\n",
    "3. Найти интервалы, на которых функция убывает\n",
    "4. Построить график\n",
    "5. Вычислить вершину\n",
    "6. Определить промежутки, на котором f > 0\n",
    "7. Определить промежутки, на котором f < 0"
   ]
  },
  {
   "cell_type": "code",
   "execution_count": 1,
   "id": "34d11738",
   "metadata": {},
   "outputs": [],
   "source": [
    "'Модуль импорта'\n",
    "from sympy import Symbol, S, oo,sqrt\n",
    "from sympy.plotting import plot\n",
    "from sympy.solvers import solve\n",
    "from sympy import diff\n",
    "from sympy import singularities\n",
    "from sympy import calculus\n",
    "from sympy import is_increasing\n",
    "from sympy import is_decreasing\n",
    "from sympy import Interval\n",
    "from sympy.core import evalf"
   ]
  },
  {
   "cell_type": "markdown",
   "id": "408e0b9c",
   "metadata": {},
   "source": [
    "#### 1. Определить корни"
   ]
  },
  {
   "cell_type": "code",
   "execution_count": 2,
   "id": "546b9a29",
   "metadata": {
    "scrolled": false
   },
   "outputs": [
    {
     "data": {
      "text/latex": [
       "$\\displaystyle 5 x^{3} + 3 x^{2} - 6 x$"
      ],
      "text/plain": [
       "5*x**3 + 3*x**2 - 6*x"
      ]
     },
     "execution_count": 2,
     "metadata": {},
     "output_type": "execute_result"
    }
   ],
   "source": [
    "x = Symbol('x',real=True)\n",
    "func=5*x**3+3*x**2-6*x\n",
    "func"
   ]
  },
  {
   "cell_type": "code",
   "execution_count": 3,
   "id": "469cf95f",
   "metadata": {
    "scrolled": true
   },
   "outputs": [
    {
     "data": {
      "text/plain": [
       "[0, -3/10 + sqrt(129)/10, -sqrt(129)/10 - 3/10]"
      ]
     },
     "execution_count": 3,
     "metadata": {},
     "output_type": "execute_result"
    }
   ],
   "source": [
    "roots=solve(func,x)\n",
    "roots"
   ]
  },
  {
   "cell_type": "code",
   "execution_count": 4,
   "id": "14062ef8",
   "metadata": {},
   "outputs": [
    {
     "data": {
      "text/latex": [
       "$\\displaystyle - \\frac{3}{10} + \\frac{\\sqrt{129}}{10}$"
      ],
      "text/plain": [
       "-3/10 + sqrt(129)/10"
      ]
     },
     "execution_count": 4,
     "metadata": {},
     "output_type": "execute_result"
    }
   ],
   "source": [
    "roots[1]"
   ]
  },
  {
   "cell_type": "markdown",
   "id": "3cf4aa4a",
   "metadata": {},
   "source": [
    "#### 2. Найти интервалы, на которых функция возрастает"
   ]
  },
  {
   "cell_type": "markdown",
   "id": "8436f9e3",
   "metadata": {},
   "source": [
    "_Найдем область определения функции_"
   ]
  },
  {
   "cell_type": "code",
   "execution_count": 5,
   "id": "a782bcbe",
   "metadata": {},
   "outputs": [
    {
     "data": {
      "text/latex": [
       "$\\displaystyle \\emptyset$"
      ],
      "text/plain": [
       "EmptySet"
      ]
     },
     "execution_count": 5,
     "metadata": {},
     "output_type": "execute_result"
    }
   ],
   "source": [
    "singularities(func, x)"
   ]
  },
  {
   "cell_type": "code",
   "execution_count": 6,
   "id": "a862e96a",
   "metadata": {},
   "outputs": [
    {
     "data": {
      "text/latex": [
       "$\\displaystyle \\mathbb{R}$"
      ],
      "text/plain": [
       "Reals"
      ]
     },
     "execution_count": 6,
     "metadata": {},
     "output_type": "execute_result"
    }
   ],
   "source": [
    "func_domain=S.Reals - singularities(func, x)\n",
    "func_domain"
   ]
  },
  {
   "cell_type": "markdown",
   "id": "8c5b76ba",
   "metadata": {},
   "source": [
    "Функция определена на всей числовой прямой"
   ]
  },
  {
   "cell_type": "markdown",
   "id": "a8a59b73",
   "metadata": {},
   "source": [
    "Найдем первую производную функции:"
   ]
  },
  {
   "cell_type": "code",
   "execution_count": 7,
   "id": "5417298c",
   "metadata": {
    "scrolled": false
   },
   "outputs": [
    {
     "data": {
      "text/latex": [
       "$\\displaystyle 15 x^{2} + 6 x - 6$"
      ],
      "text/plain": [
       "15*x**2 + 6*x - 6"
      ]
     },
     "execution_count": 7,
     "metadata": {},
     "output_type": "execute_result"
    }
   ],
   "source": [
    "derivative=diff(func,x)\n",
    "derivative"
   ]
  },
  {
   "cell_type": "markdown",
   "id": "4b316941",
   "metadata": {},
   "source": [
    "Найдем  f'(x)=0"
   ]
  },
  {
   "cell_type": "code",
   "execution_count": 8,
   "id": "e8e5e846",
   "metadata": {
    "scrolled": false
   },
   "outputs": [
    {
     "data": {
      "text/plain": [
       "[-1/5 + sqrt(11)/5, -sqrt(11)/5 - 1/5]"
      ]
     },
     "execution_count": 8,
     "metadata": {},
     "output_type": "execute_result"
    }
   ],
   "source": [
    "der_roots=solve(derivative,x)\n",
    "der_roots"
   ]
  },
  {
   "cell_type": "code",
   "execution_count": 9,
   "id": "64195372",
   "metadata": {},
   "outputs": [
    {
     "data": {
      "text/plain": [
       "True"
      ]
     },
     "execution_count": 9,
     "metadata": {},
     "output_type": "execute_result"
    }
   ],
   "source": [
    "is_increasing(func,Interval(-oo,der_roots[1]))"
   ]
  },
  {
   "cell_type": "code",
   "execution_count": 10,
   "id": "014346bf",
   "metadata": {},
   "outputs": [
    {
     "data": {
      "text/plain": [
       "False"
      ]
     },
     "execution_count": 10,
     "metadata": {},
     "output_type": "execute_result"
    }
   ],
   "source": [
    "is_increasing(func,Interval(der_roots[1],der_roots[0]))"
   ]
  },
  {
   "cell_type": "code",
   "execution_count": 11,
   "id": "2738bdea",
   "metadata": {
    "scrolled": false
   },
   "outputs": [
    {
     "data": {
      "text/plain": [
       "True"
      ]
     },
     "execution_count": 11,
     "metadata": {},
     "output_type": "execute_result"
    }
   ],
   "source": [
    "is_increasing(func,Interval(der_roots[0],+oo))"
   ]
  },
  {
   "cell_type": "markdown",
   "id": "697afd38",
   "metadata": {},
   "source": [
    "Функция возрастает на **(-∞; -sqrt(11)/5 - 1/5) ⋃ (-1/5 + sqrt(11)/5; +∞)**"
   ]
  },
  {
   "cell_type": "markdown",
   "id": "9863e590",
   "metadata": {},
   "source": [
    "#### 3. Найти интервалы, на которых функция убывает"
   ]
  },
  {
   "cell_type": "code",
   "execution_count": 12,
   "id": "e26010f8",
   "metadata": {},
   "outputs": [
    {
     "data": {
      "text/plain": [
       "False"
      ]
     },
     "execution_count": 12,
     "metadata": {},
     "output_type": "execute_result"
    }
   ],
   "source": [
    "is_decreasing(func,Interval(-oo,der_roots[1]))"
   ]
  },
  {
   "cell_type": "code",
   "execution_count": 13,
   "id": "6dbe8088",
   "metadata": {},
   "outputs": [
    {
     "data": {
      "text/plain": [
       "True"
      ]
     },
     "execution_count": 13,
     "metadata": {},
     "output_type": "execute_result"
    }
   ],
   "source": [
    "is_decreasing(func,Interval(der_roots[1],der_roots[0]))"
   ]
  },
  {
   "cell_type": "code",
   "execution_count": 14,
   "id": "1cd0b95a",
   "metadata": {},
   "outputs": [
    {
     "data": {
      "text/plain": [
       "False"
      ]
     },
     "execution_count": 14,
     "metadata": {},
     "output_type": "execute_result"
    }
   ],
   "source": [
    "is_decreasing(func,Interval(der_roots[0],+oo))"
   ]
  },
  {
   "cell_type": "markdown",
   "id": "af3f71e0",
   "metadata": {},
   "source": [
    "Функция убывает в интервале **(-sqrt(11)/5 - 1/5; -1/5 + sqrt(11)/5)**"
   ]
  },
  {
   "cell_type": "markdown",
   "id": "5cb18b0f",
   "metadata": {},
   "source": [
    "#### 4. Построить график"
   ]
  },
  {
   "cell_type": "code",
   "execution_count": 15,
   "id": "ede9ecfe",
   "metadata": {
    "scrolled": true
   },
   "outputs": [
    {
     "data": {
      "image/png": "[encoded data removed]",
      "text/plain": [
       "<Figure size 432x288 with 1 Axes>"
      ]
     },
     "metadata": {
      "needs_background": "light"
     },
     "output_type": "display_data"
    }
   ],
   "source": [
    "graph=plot(func, derivative, (x,-2,2))"
   ]
  },
  {
   "cell_type": "markdown",
   "id": "a7826014",
   "metadata": {},
   "source": [
    "#### 5. Вычислить вершину"
   ]
  },
  {
   "cell_type": "markdown",
   "id": "88fedf08",
   "metadata": {},
   "source": [
    "Производная функции отрицательна на отрезке **(-sqrt(11)/5 - 1/5; -1/5 + sqrt(11)/5)**,  и положительна на **(-∞; -sqrt(11)/5 - 1/5) ⋃ (-1/5 + sqrt(11)/5; +∞)**"
   ]
  },
  {
   "cell_type": "markdown",
   "id": "55cb5945",
   "metadata": {},
   "source": [
    "Тогда максимум функции в точке __-sqrt(11)/5 - 1/5__ , ав точке __-1/5 + sqrt(11)/5__ её минимум."
   ]
  },
  {
   "cell_type": "markdown",
   "id": "ab50a88d",
   "metadata": {},
   "source": [
    "Найдем максимальное значение функции:"
   ]
  },
  {
   "cell_type": "code",
   "execution_count": 16,
   "id": "e9308e96",
   "metadata": {
    "scrolled": true
   },
   "outputs": [
    {
     "data": {
      "text/latex": [
       "$\\displaystyle 5 \\left(- \\frac{\\sqrt{11}}{5} - \\frac{1}{5}\\right)^{3} + \\frac{6}{5} + 3 \\left(- \\frac{\\sqrt{11}}{5} - \\frac{1}{5}\\right)^{2} + \\frac{6 \\sqrt{11}}{5}$"
      ],
      "text/plain": [
       "5*(-sqrt(11)/5 - 1/5)**3 + 6/5 + 3*(-sqrt(11)/5 - 1/5)**2 + 6*sqrt(11)/5"
      ]
     },
     "execution_count": 16,
     "metadata": {},
     "output_type": "execute_result"
    }
   ],
   "source": [
    "max_extremum = func.subs(x, der_roots[1])\n",
    "max_extremum"
   ]
  },
  {
   "cell_type": "markdown",
   "id": "77f0997c",
   "metadata": {},
   "source": [
    "Найдем минимальное значение функции:"
   ]
  },
  {
   "cell_type": "code",
   "execution_count": 17,
   "id": "22bbbd14",
   "metadata": {},
   "outputs": [
    {
     "data": {
      "text/latex": [
       "$\\displaystyle - \\frac{6 \\sqrt{11}}{5} + 5 \\left(- \\frac{1}{5} + \\frac{\\sqrt{11}}{5}\\right)^{3} + 3 \\left(- \\frac{1}{5} + \\frac{\\sqrt{11}}{5}\\right)^{2} + \\frac{6}{5}$"
      ],
      "text/plain": [
       "-6*sqrt(11)/5 + 5*(-1/5 + sqrt(11)/5)**3 + 3*(-1/5 + sqrt(11)/5)**2 + 6/5"
      ]
     },
     "execution_count": 17,
     "metadata": {},
     "output_type": "execute_result"
    }
   ],
   "source": [
    "min_extremum = func.subs(x, der_roots[0])\n",
    "min_extremum"
   ]
  },
  {
   "cell_type": "markdown",
   "id": "e0ecea2a",
   "metadata": {},
   "source": [
    "#### 6. Определить промежутки, на котором f > 0"
   ]
  },
  {
   "cell_type": "markdown",
   "id": "745e54eb",
   "metadata": {},
   "source": [
    "Функция положительна на интервалах (-sqrt(129)/10 - 3/10; 0) ⋃ (-3/10 + sqrt(129)/10; +∞)"
   ]
  },
  {
   "cell_type": "markdown",
   "id": "4216866b",
   "metadata": {},
   "source": [
    "#### 7. Определить промежутки, на котором f < 0"
   ]
  },
  {
   "cell_type": "markdown",
   "id": "33ba6fef",
   "metadata": {},
   "source": [
    "Функция положительна на интервалах (-∞; -sqrt(129)/10 - 3/10) ⋃ (0; -3/10 + sqrt(129)/10)"
   ]
  }
 ],
 "metadata": {
  "kernelspec": {
   "display_name": "Python 3 (ipykernel)",
   "language": "python",
   "name": "python3"
  },
  "language_info": {
   "codemirror_mode": {
    "name": "ipython",
    "version": 3
   },
   "file_extension": ".py",
   "mimetype": "text/x-python",
   "name": "python",
   "nbconvert_exporter": "python",
   "pygments_lexer": "ipython3",
   "version": "3.9.12"
  }
 },
 "nbformat": 4,
 "nbformat_minor": 5
}
