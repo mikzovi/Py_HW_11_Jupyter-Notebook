{
 "cells": [
  {
   "cell_type": "markdown",
   "id": "0981dc13",
   "metadata": {},
   "source": [
    "### Исследование функции y = x^2 - 6|x| + 8:\n",
    "\n",
    "1. Определить корни\n",
    "2. Найти интервалы, на которых функция возрастает\n",
    "3. Найти интервалы, на которых функция убывает\n",
    "4. Построить график\n",
    "5. Вычислить вершину\n",
    "6. Определить промежутки, на котором f > 0\n",
    "7. Определить промежутки, на котором f < 0\n"
   ]
  },
  {
   "cell_type": "code",
   "execution_count": 33,
   "id": "c3bbae35",
   "metadata": {},
   "outputs": [],
   "source": [
    "import sympy as sym\n",
    "from sympy import Symbol, latex, diff\n",
    "from sympy.solvers import solve\n",
    "from sympy.plotting import plot"
   ]
  },
  {
   "cell_type": "code",
   "execution_count": 36,
   "id": "047e634c",
   "metadata": {},
   "outputs": [
    {
     "data": {
      "text/latex": [
       "$\\displaystyle x^{2} - 6 \\left|{x}\\right| + 8$"
      ],
      "text/plain": [
       "x**2 - 6*Abs(x) + 8"
      ]
     },
     "execution_count": 36,
     "metadata": {},
     "output_type": "execute_result"
    }
   ],
   "source": [
    "x = Symbol('x', real= True)\n",
    "f = x**2 - 6*abs(x) + 8 # исходная функция\n",
    "f"
   ]
  },
  {
   "cell_type": "markdown",
   "id": "551ee8d3",
   "metadata": {},
   "source": [
    "1. Определить корни (точки перечечения с оью ОХ)"
   ]
  },
  {
   "cell_type": "code",
   "execution_count": 37,
   "id": "4b038848",
   "metadata": {},
   "outputs": [
    {
     "data": {
      "text/plain": [
       "[-4, -2, 2, 4]"
      ]
     },
     "execution_count": 37,
     "metadata": {},
     "output_type": "execute_result"
    }
   ],
   "source": [
    "solve(f, x) "
   ]
  },
  {
   "cell_type": "markdown",
   "id": "435ab489",
   "metadata": {},
   "source": [
    "**Интервалы возрастания и убывания функции"
   ]
  },
  {
   "cell_type": "markdown",
   "id": "766792e5",
   "metadata": {},
   "source": [
    "- посчитаем производную"
   ]
  },
  {
   "cell_type": "code",
   "execution_count": 39,
   "id": "da61aaa6",
   "metadata": {},
   "outputs": [
    {
     "data": {
      "text/latex": [
       "$\\displaystyle 2 x - 6 \\operatorname{sign}{\\left(x \\right)}$"
      ],
      "text/plain": [
       "2*x - 6*sign(x)"
      ]
     },
     "execution_count": 39,
     "metadata": {},
     "output_type": "execute_result"
    }
   ],
   "source": [
    "fi = diff(f,x) #производная\n",
    "fi"
   ]
  },
  {
   "cell_type": "markdown",
   "id": "692ea063",
   "metadata": {},
   "source": [
    "- найдем ее корни."
   ]
  },
  {
   "cell_type": "code",
   "execution_count": 52,
   "id": "face9c2d",
   "metadata": {},
   "outputs": [
    {
     "data": {
      "text/plain": [
       "[3]"
      ]
     },
     "execution_count": 52,
     "metadata": {},
     "output_type": "execute_result"
    }
   ],
   "source": [
    "ext = solve(fi , x) # \n",
    "ext"
   ]
  },
  {
   "cell_type": "markdown",
   "id": "ceb2ba11",
   "metadata": {},
   "source": [
    "- *функция симметрична и по факту у нее 3 корня 3 и -3 - это точки эктремумов (вершин)\n",
    " - *Итого:\n",
    " - *функция f имеет 2 экстремума (2 вершины) при х = 3 и х = - 3\n",
    " - *одну точку излома при х = 0"
   ]
  },
  {
   "cell_type": "code",
   "execution_count": 55,
   "id": "eba03771",
   "metadata": {},
   "outputs": [
    {
     "data": {
      "text/plain": [
       "(0, 0)"
      ]
     },
     "execution_count": 55,
     "metadata": {},
     "output_type": "execute_result"
    }
   ],
   "source": [
    "fi.subs(x,3), fi.subs(x,-3)"
   ]
  },
  {
   "cell_type": "markdown",
   "id": "5978f00a",
   "metadata": {},
   "source": [
    "- *определим знаки производной на интервалах"
   ]
  },
  {
   "cell_type": "code",
   "execution_count": 62,
   "id": "6fff0a7a",
   "metadata": {},
   "outputs": [
    {
     "data": {
      "text/latex": [
       "$\\displaystyle -2$"
      ],
      "text/plain": [
       "-2"
      ]
     },
     "execution_count": 62,
     "metadata": {},
     "output_type": "execute_result"
    }
   ],
   "source": [
    "fi.subs(x,-ext[0]-1) # интервал(-oo, -ext) "
   ]
  },
  {
   "cell_type": "code",
   "execution_count": 63,
   "id": "2f0a2ddc",
   "metadata": {},
   "outputs": [
    {
     "data": {
      "text/latex": [
       "$\\displaystyle 3$"
      ],
      "text/plain": [
       "3"
      ]
     },
     "execution_count": 63,
     "metadata": {},
     "output_type": "execute_result"
    }
   ],
   "source": [
    "fi.subs(x,-ext[0]/2)# интервал(-ext, 0) "
   ]
  },
  {
   "cell_type": "code",
   "execution_count": 64,
   "id": "2024ffd8",
   "metadata": {},
   "outputs": [
    {
     "data": {
      "text/latex": [
       "$\\displaystyle -3$"
      ],
      "text/plain": [
       "-3"
      ]
     },
     "execution_count": 64,
     "metadata": {},
     "output_type": "execute_result"
    }
   ],
   "source": [
    "  fi.subs(x,ext[0]/2) # интервал(0, ext) "
   ]
  },
  {
   "cell_type": "code",
   "execution_count": 65,
   "id": "f6b37937",
   "metadata": {},
   "outputs": [
    {
     "data": {
      "text/latex": [
       "$\\displaystyle 2$"
      ],
      "text/plain": [
       "2"
      ]
     },
     "execution_count": 65,
     "metadata": {},
     "output_type": "execute_result"
    }
   ],
   "source": [
    "fi.subs(x,ext[0]+1) #интервал(ext, +oo)"
   ]
  },
  {
   "cell_type": "markdown",
   "id": "b2882813",
   "metadata": {},
   "source": [
    "2. *интервалы, на которых функция возрастает: \n",
    "- *2 интервала: (-ext, 0) и (ext, +oo)"
   ]
  },
  {
   "cell_type": "markdown",
   "id": "1007a014",
   "metadata": {},
   "source": [
    "2. *интервалы, на которых функция убывает: \n",
    "- *2 интервала: (-oo, -ext)  и (0, ext) "
   ]
  },
  {
   "cell_type": "markdown",
   "id": "8f678e73",
   "metadata": {},
   "source": [
    "- *т.к. в нуле sign(𝑥) - не существует - то х = 0 - это точка излома"
   ]
  },
  {
   "cell_type": "code",
   "execution_count": 43,
   "id": "4149a524",
   "metadata": {},
   "outputs": [
    {
     "data": {
      "image/png": "[encoded data removed]",
      "text/plain": [
       "<Figure size 432x288 with 1 Axes>"
      ]
     },
     "metadata": {
      "needs_background": "light"
     },
     "output_type": "display_data"
    },
    {
     "data": {
      "text/plain": [
       "<sympy.plotting.plot.Plot at 0x19388fd08b0>"
      ]
     },
     "execution_count": 43,
     "metadata": {},
     "output_type": "execute_result"
    }
   ],
   "source": [
    "plot(fi,(x,-4,4)) #график производной"
   ]
  },
  {
   "cell_type": "markdown",
   "id": "fba97d4f",
   "metadata": {},
   "source": [
    "4. Построить график "
   ]
  },
  {
   "cell_type": "code",
   "execution_count": 78,
   "id": "74c9ba6f",
   "metadata": {},
   "outputs": [
    {
     "data": {
      "image/png": "[encoded data removed]",
      "text/plain": [
       "<Figure size 432x288 with 1 Axes>"
      ]
     },
     "metadata": {
      "needs_background": "light"
     },
     "output_type": "display_data"
    },
    {
     "data": {
      "text/plain": [
       "<sympy.plotting.plot.Plot at 0x1938257d1f0>"
      ]
     },
     "execution_count": 78,
     "metadata": {},
     "output_type": "execute_result"
    }
   ],
   "source": [
    "plot(f,(x,-5,5))"
   ]
  },
  {
   "cell_type": "markdown",
   "id": "1fd4fcbc",
   "metadata": {},
   "source": [
    "5. *Вычислить вершину. производная имеет 2 нуля и точку в которой она не существует: поэтому функция f имеет 2 вершины (эктремума) и точку излома\n"
   ]
  },
  {
   "cell_type": "code",
   "execution_count": 70,
   "id": "7b99be16",
   "metadata": {},
   "outputs": [
    {
     "data": {
      "text/plain": [
       "[-3, -1]"
      ]
     },
     "execution_count": 70,
     "metadata": {},
     "output_type": "execute_result"
    }
   ],
   "source": [
    "[-ext[0], f.subs(x, -ext[0])] #первая вершина (эктремум)"
   ]
  },
  {
   "cell_type": "code",
   "execution_count": 71,
   "id": "4f338bb6",
   "metadata": {},
   "outputs": [
    {
     "data": {
      "text/plain": [
       "[3, -1]"
      ]
     },
     "execution_count": 71,
     "metadata": {},
     "output_type": "execute_result"
    }
   ],
   "source": [
    "[ext[0], f.subs(x, ext[0])] #вторая вершина (эктремум)"
   ]
  },
  {
   "cell_type": "code",
   "execution_count": 72,
   "id": "fcfa39c3",
   "metadata": {},
   "outputs": [
    {
     "data": {
      "text/plain": [
       "[0, 8]"
      ]
     },
     "execution_count": 72,
     "metadata": {},
     "output_type": "execute_result"
    }
   ],
   "source": [
    "[0, f.subs(x, 0)] #точка излома "
   ]
  },
  {
   "cell_type": "markdown",
   "id": "8f346fcf",
   "metadata": {},
   "source": [
    " - 6 и 7 *Определим промежутки на которых функция больше и меньне нуля"
   ]
  },
  {
   "cell_type": "code",
   "execution_count": 99,
   "id": "ac9634fa",
   "metadata": {},
   "outputs": [
    {
     "data": {
      "text/plain": [
       "[-4, -2, 2, 4]"
      ]
     },
     "execution_count": 99,
     "metadata": {},
     "output_type": "execute_result"
    }
   ],
   "source": [
    "xi = solve(f, x) # корни \n",
    "xi"
   ]
  },
  {
   "cell_type": "code",
   "execution_count": 103,
   "id": "dd1999dc",
   "metadata": {},
   "outputs": [
    {
     "name": "stdout",
     "output_type": "stream",
     "text": [
      "на интервале (-oo, -4) - функция f > 0\n"
     ]
    }
   ],
   "source": [
    "if f.subs(x,xi[0]-1) > 0: print(f'на интервале (-oo, {xi[0]}) - функция f > 0')\n",
    "else: print(f'на интервале (-oo, {xi[0]}) - функция f < 0')"
   ]
  },
  {
   "cell_type": "code",
   "execution_count": 104,
   "id": "a9e594a5",
   "metadata": {},
   "outputs": [
    {
     "name": "stdout",
     "output_type": "stream",
     "text": [
      "на интервале (-4, -2) - функция f < 0\n",
      "на интервале (-2, 2) - функция f > 0\n",
      "на интервале (2, 4) - функция f < 0\n"
     ]
    }
   ],
   "source": [
    "for i in range(0, len(xi)-1):\n",
    "    if f.subs(x,(xi[i]+xi[i+1])/2) > 0: print(f'на интервале ({xi[i]}, {xi[i+1]}) - функция f > 0')\n",
    "    else: print(f'на интервале ({xi[i]}, {xi[i+1]}) - функция f < 0')"
   ]
  },
  {
   "cell_type": "code",
   "execution_count": 105,
   "id": "fe37e736",
   "metadata": {},
   "outputs": [
    {
     "name": "stdout",
     "output_type": "stream",
     "text": [
      "на интервале (4, 00) - функция f > 0\n"
     ]
    }
   ],
   "source": [
    "if f.subs(x,xi[3]+1) > 0: print(f'на интервале ({xi[3]}, 00) - функция f > 0')\n",
    "else: print(f'на интервале ({xi[3]}, 00) - функция f < 0')"
   ]
  }
 ],
 "metadata": {
  "kernelspec": {
   "display_name": "Python 3 (ipykernel)",
   "language": "python",
   "name": "python3"
  },
  "language_info": {
   "codemirror_mode": {
    "name": "ipython",
    "version": 3
   },
   "file_extension": ".py",
   "mimetype": "text/x-python",
   "name": "python",
   "nbconvert_exporter": "python",
   "pygments_lexer": "ipython3",
   "version": "3.9.12"
  }
 },
 "nbformat": 4,
 "nbformat_minor": 5
}
